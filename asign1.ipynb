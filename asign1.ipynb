{
 "cells": [
  {
   "cell_type": "code",
   "execution_count": 1,
   "metadata": {},
   "outputs": [],
   "source": [
    "b1=[1,0.15,0.3,0.5,0]\n",
    "b2=[1,0.6,0.2,0.1,0]"
   ]
  },
  {
   "cell_type": "code",
   "execution_count": 5,
   "metadata": {},
   "outputs": [],
   "source": [
    "union=[]\n",
    "for i in range(len(b1)):\n",
    "    union.append(max(b1[i],b2[i]))"
   ]
  },
  {
   "cell_type": "code",
   "execution_count": 6,
   "metadata": {},
   "outputs": [
    {
     "name": "stdout",
     "output_type": "stream",
     "text": [
      "[1, 0.6, 0.3, 0.5, 0]\n"
     ]
    }
   ],
   "source": [
    "print(union)\n"
   ]
  },
  {
   "cell_type": "code",
   "execution_count": 10,
   "metadata": {},
   "outputs": [
    {
     "name": "stdout",
     "output_type": "stream",
     "text": [
      "[1, 0.15, 0.2, 0.1, 0]\n"
     ]
    }
   ],
   "source": [
    "intersct=[]\n",
    "for i in range(len(b1)):\n",
    "    intersct.append(min(b1[i],b2[i]))\n",
    "print(intersct)"
   ]
  },
  {
   "cell_type": "code",
   "execution_count": 11,
   "metadata": {},
   "outputs": [
    {
     "name": "stdout",
     "output_type": "stream",
     "text": [
      "[0, 0.85, 0.7, 0.5, 1]\n"
     ]
    }
   ],
   "source": [
    "comp1=[]\n",
    "for i in range(len(b1)):\n",
    "    comp1.append(1-b1[i])\n",
    "print(comp1)"
   ]
  },
  {
   "cell_type": "code",
   "execution_count": 12,
   "metadata": {},
   "outputs": [
    {
     "name": "stdout",
     "output_type": "stream",
     "text": [
      "[0, 0.4, 0.8, 0.9, 1]\n"
     ]
    }
   ],
   "source": [
    "comp2=[]\n",
    "for i in range(len(b2)):\n",
    "    comp2.append(1-b2[i])\n",
    "print(comp2)"
   ]
  },
  {
   "cell_type": "code",
   "execution_count": 13,
   "metadata": {},
   "outputs": [
    {
     "name": "stdout",
     "output_type": "stream",
     "text": [
      "[0, 0.15, 0.3, 0.5, 0]\n"
     ]
    }
   ],
   "source": [
    "diff12=[]\n",
    "for i in range(len(b1)):\n",
    "    diff12.append(min(b1[i],comp2[i]))\n",
    "print(diff12)"
   ]
  },
  {
   "cell_type": "code",
   "execution_count": 14,
   "metadata": {},
   "outputs": [
    {
     "name": "stdout",
     "output_type": "stream",
     "text": [
      "[0, 0.6, 0.2, 0.1, 0]\n"
     ]
    }
   ],
   "source": [
    "diff21=[]\n",
    "for i in range(len(b1)):\n",
    "    diff21.append(min(b2[i],comp1[i]))\n",
    "print(diff21)"
   ]
  },
  {
   "cell_type": "code",
   "execution_count": null,
   "metadata": {},
   "outputs": [],
   "source": []
  }
 ],
 "metadata": {
  "kernelspec": {
   "display_name": "Python 3",
   "language": "python",
   "name": "python3"
  },
  "language_info": {
   "codemirror_mode": {
    "name": "ipython",
    "version": 3
   },
   "file_extension": ".py",
   "mimetype": "text/x-python",
   "name": "python",
   "nbconvert_exporter": "python",
   "pygments_lexer": "ipython3",
   "version": "3.7.3"
  }
 },
 "nbformat": 4,
 "nbformat_minor": 2
}
